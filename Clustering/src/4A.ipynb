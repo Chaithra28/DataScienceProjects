{
 "cells": [
  {
   "cell_type": "code",
   "execution_count": 3,
   "id": "58beedec",
   "metadata": {},
   "outputs": [],
   "source": [
    "import numpy as np\n",
    "import pandas as pd\n",
    "from sklearn.decomposition import PCA\n",
    "test_data = pd.read_csv(\"test_iris.csv\", header=None, sep=' ', names=['sepal_length', 'sepal_width', 'petal_width','petal_length'])"
   ]
  },
  {
   "cell_type": "code",
   "execution_count": 4,
   "id": "25db9322",
   "metadata": {},
   "outputs": [],
   "source": [
    "import matplotlib.pyplot as plt\n",
    "from sklearn.metrics import pairwise_distances_argmin_min"
   ]
  },
  {
   "cell_type": "code",
   "execution_count": 65,
   "id": "86c766a5",
   "metadata": {},
   "outputs": [],
   "source": [
    "class KMeans():\n",
    "    def __init__(self, n_clusters=3, max_iter=300, tol=1e-4, n_runs=100):\n",
    "        self.n_clusters = n_clusters\n",
    "        self.max_iter = max_iter\n",
    "        self.tol = tol\n",
    "        self.n_runs = n_runs\n",
    "        self.cluster_labels = None\n",
    "        self.best_cluster_labels = None\n",
    "        self.best_inertia = None\n",
    "        \n",
    "    def initialize_centroids(self, X):\n",
    "        centroid_indices = np.random.choice(X.shape[0], self.n_clusters, replace=False)\n",
    "        centroids = X.iloc[centroid_indices].values\n",
    "        return centroids\n",
    "    \n",
    "    def compute_distances(self, X, centroids):\n",
    "        # Compute cosine similarity between samples and centroids\n",
    "        cos_sim = np.dot(X.values, centroids.T) / (np.linalg.norm(X.values, axis=1)[:, np.newaxis] * np.linalg.norm(centroids, axis=1))\n",
    "        # Convert cosine similarity to cosine distance\n",
    "        distances = 1 - cos_sim\n",
    "        return distances\n",
    "    \n",
    "    def assign_clusters(self, X, centroids):\n",
    "        distances = self.compute_distances(X, centroids)\n",
    "        cluster_labels = np.argmin(distances, axis=1)\n",
    "        return cluster_labels\n",
    "    \n",
    "    def update_centroids(self, X, cluster_labels):\n",
    "        centroids = np.array([X[cluster_labels == k].mean(axis=0) for k in range(self.n_clusters)])\n",
    "        return centroids\n",
    "    \n",
    "    def fit(self, X):\n",
    "        all_cluster_labels = []\n",
    "        all_inertias = []\n",
    "        for i in range(self.n_runs):\n",
    "            self.centroids = self.initialize_centroids(X)\n",
    "            for i in range(self.max_iter):\n",
    "                initial_centroids = self.centroids.copy()\n",
    "                cluster_labels = self.assign_clusters(X, self.centroids)\n",
    "                self.centroids = self.update_centroids(X, cluster_labels)\n",
    "                change_in_centroids = np.sqrt(np.sum((self.centroids - initial_centroids) ** 2, axis=1))\n",
    "\n",
    "                # check for convergence\n",
    "                if np.max(change_in_centroids) < self.tol:\n",
    "                    break\n",
    "            all_cluster_labels.append(cluster_labels)\n",
    "            # Calculate inertia for the current run\n",
    "            inertia = np.sum([np.sum(np.linalg.norm(X[cluster_labels == k] - self.centroids[k], axis=1)**2) for k in range(self.n_clusters)])\n",
    "            all_inertias.append(inertia)\n",
    "\n",
    "        # Pick the best cluster labels based on the lowest inertia\n",
    "        best_run_idx = np.argmin(all_inertias)\n",
    "        self.cluster_labels = np.array(all_cluster_labels)\n",
    "        self.best_cluster_labels = self.cluster_labels[best_run_idx]\n",
    "        self.best_inertia = all_inertias[best_run_idx]\n",
    "        return self.best_cluster_labels, self.best_inertia\n"
   ]
  },
  {
   "cell_type": "code",
   "execution_count": 62,
   "id": "990671de",
   "metadata": {},
   "outputs": [],
   "source": [
    "all_labels=[]\n",
    "best_inertias=[]\n",
    "for k in range(1, 21):\n",
    "    km = KMeans(n_clusters=k)\n",
    "    labels, best_inertia= km.fit(test_data)\n",
    "    all_labels.append(labels)\n",
    "    best_inertias.append(best_inertia)"
   ]
  },
  {
   "cell_type": "code",
   "execution_count": 63,
   "id": "5dffb9b0",
   "metadata": {},
   "outputs": [
    {
     "data": {
      "text/plain": [
       "[680.8244,\n",
       " 155.03640000000001,\n",
       " 92.07870917874396,\n",
       " 88.70480917874397,\n",
       " 85.29735967190706,\n",
       " 77.21635602789024,\n",
       " 76.24044064327487,\n",
       " 72.48533735517356,\n",
       " 71.00603973612596,\n",
       " 69.72666709348591,\n",
       " 68.72383745739124,\n",
       " 68.54925140056022,\n",
       " 66.40308923266277,\n",
       " 64.39639073061443,\n",
       " 61.925507533316356,\n",
       " 63.62473412698414,\n",
       " 63.327969654528495,\n",
       " 63.240388888888894,\n",
       " 60.76126587301589,\n",
       " 60.95995707070708]"
      ]
     },
     "execution_count": 63,
     "metadata": {},
     "output_type": "execute_result"
    }
   ],
   "source": [
    "best_inertias"
   ]
  },
  {
   "cell_type": "code",
   "execution_count": 66,
   "id": "e376460c",
   "metadata": {},
   "outputs": [
    {
     "data": {
      "image/png": "[encoded data removed]",
      "text/plain": [
       "<Figure size 640x480 with 1 Axes>"
      ]
     },
     "metadata": {},
     "output_type": "display_data"
    }
   ],
   "source": [
    "import matplotlib.pyplot as plt\n",
    "\n",
    "plt.plot(range(1, 21), best_inertias, marker=\"*\")\n",
    "plt.xlabel('Number of clusters')\n",
    "plt.ylabel('Inertia')\n",
    "plt.show()"
   ]
  },
  {
   "cell_type": "code",
   "execution_count": 28,
   "id": "2fec157b",
   "metadata": {},
   "outputs": [],
   "source": [
    "kmeans = KMeans(n_clusters=3, max_iter=300, tol=1e-4, n_runs=50)\n",
    "predictions = kmeans.fit(test_data)"
   ]
  },
  {
   "cell_type": "code",
   "execution_count": 29,
   "id": "e6acc9bd",
   "metadata": {},
   "outputs": [
    {
     "name": "stdout",
     "output_type": "stream",
     "text": [
      "     0\n",
      "0    3\n",
      "1    3\n",
      "2    3\n",
      "3    3\n",
      "4    3\n",
      "..  ..\n",
      "145  3\n",
      "146  2\n",
      "147  1\n",
      "148  1\n",
      "149  1\n",
      "\n",
      "[150 rows x 1 columns]\n"
     ]
    }
   ],
   "source": [
    "predictions = pd.DataFrame(predictions)\n",
    "predictions = predictions.replace({0:1, 1:2, 2:3})\n",
    "print(predictions)"
   ]
  },
  {
   "cell_type": "code",
   "execution_count": 30,
   "id": "b125704a",
   "metadata": {},
   "outputs": [],
   "source": [
    "predictions.to_csv('pred20.csv', index=False, header=False, escapechar=None)"
   ]
  },
  {
   "cell_type": "code",
   "execution_count": 134,
   "id": "886190dc",
   "metadata": {},
   "outputs": [],
   "source": [
    "from sklearn.cluster import KMeans\n",
    "kmeans = KMeans(n_clusters=3)\n",
    "kmeans.fit(test_data)\n",
    "pred = kmeans.predict(test_data)\n",
    "pred = pd.DataFrame(pred)\n",
    "pred = pred.replace({0:1, 1:2, 2:3})"
   ]
  },
  {
   "cell_type": "code",
   "execution_count": 135,
   "id": "71354cf4",
   "metadata": {},
   "outputs": [],
   "source": [
    "pred.to_csv('pred_sklearn.csv', index=False, header=False, escapechar=None)"
   ]
  }
 ],
 "metadata": {
  "kernelspec": {
   "display_name": "Python 3 (ipykernel)",
   "language": "python",
   "name": "python3"
  },
  "language_info": {
   "codemirror_mode": {
    "name": "ipython",
    "version": 3
   },
   "file_extension": ".py",
   "mimetype": "text/x-python",
   "name": "python",
   "nbconvert_exporter": "python",
   "pygments_lexer": "ipython3",
   "version": "3.9.13"
  }
 },
 "nbformat": 4,
 "nbformat_minor": 5
}
