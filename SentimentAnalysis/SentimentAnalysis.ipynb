{
 "cells": [
  {
   "cell_type": "code",
   "execution_count": 140,
   "id": "746e0edb",
   "metadata": {},
   "outputs": [],
   "source": [
    "import pandas as pd\n",
    "import nltk\n",
    "from nltk.corpus import stopwords\n",
    "from nltk import word_tokenize\n",
    "import re\n",
    "from string import punctuation\n",
    "from textblob import Word\n",
    "from sklearn.model_selection import train_test_split\n",
    "from sklearn.pipeline import Pipeline\n",
    "from sklearn.linear_model import LogisticRegression\n",
    "from sklearn.feature_extraction.text import TfidfVectorizer"
   ]
  },
  {
   "cell_type": "code",
   "execution_count": 203,
   "id": "150cbbe6",
   "metadata": {},
   "outputs": [],
   "source": [
    "train_data = pd.read_table(\"train_file.dat\", names=['label', 'Review'])"
   ]
  },
  {
   "cell_type": "code",
   "execution_count": 204,
   "id": "d9ed4c08",
   "metadata": {
    "scrolled": true
   },
   "outputs": [
    {
     "data": {
      "text/html": [
       "<div>\n",
       "<style scoped>\n",
       "    .dataframe tbody tr th:only-of-type {\n",
       "        vertical-align: middle;\n",
       "    }\n",
       "\n",
       "    .dataframe tbody tr th {\n",
       "        vertical-align: top;\n",
       "    }\n",
       "\n",
       "    .dataframe thead th {\n",
       "        text-align: right;\n",
       "    }\n",
       "</style>\n",
       "<table border=\"1\" class=\"dataframe\">\n",
       "  <thead>\n",
       "    <tr style=\"text-align: right;\">\n",
       "      <th></th>\n",
       "      <th>label</th>\n",
       "      <th>Review</th>\n",
       "    </tr>\n",
       "  </thead>\n",
       "  <tbody>\n",
       "    <tr>\n",
       "      <th>0</th>\n",
       "      <td>1</td>\n",
       "      <td>This book is such a life saver.  It has been s...</td>\n",
       "    </tr>\n",
       "    <tr>\n",
       "      <th>1</th>\n",
       "      <td>1</td>\n",
       "      <td>I bought this a few times for my older son and...</td>\n",
       "    </tr>\n",
       "    <tr>\n",
       "      <th>2</th>\n",
       "      <td>1</td>\n",
       "      <td>This is great for basics, but I wish the space...</td>\n",
       "    </tr>\n",
       "    <tr>\n",
       "      <th>3</th>\n",
       "      <td>1</td>\n",
       "      <td>This book is perfect!  I'm a first time new mo...</td>\n",
       "    </tr>\n",
       "    <tr>\n",
       "      <th>4</th>\n",
       "      <td>1</td>\n",
       "      <td>During your postpartum stay at the hospital th...</td>\n",
       "    </tr>\n",
       "    <tr>\n",
       "      <th>...</th>\n",
       "      <td>...</td>\n",
       "      <td>...</td>\n",
       "    </tr>\n",
       "    <tr>\n",
       "      <th>18501</th>\n",
       "      <td>-1</td>\n",
       "      <td>I really liked this monitor at first, but the ...</td>\n",
       "    </tr>\n",
       "    <tr>\n",
       "      <th>18502</th>\n",
       "      <td>-1</td>\n",
       "      <td>Apparently you get what you pay for.  I've use...</td>\n",
       "    </tr>\n",
       "    <tr>\n",
       "      <th>18503</th>\n",
       "      <td>-1</td>\n",
       "      <td>The old saying holds true with this product --...</td>\n",
       "    </tr>\n",
       "    <tr>\n",
       "      <th>18504</th>\n",
       "      <td>-1</td>\n",
       "      <td>We did a great deal of research before purchas...</td>\n",
       "    </tr>\n",
       "    <tr>\n",
       "      <th>18505</th>\n",
       "      <td>-1</td>\n",
       "      <td>I ordered these after having great success wit...</td>\n",
       "    </tr>\n",
       "  </tbody>\n",
       "</table>\n",
       "<p>18506 rows × 2 columns</p>\n",
       "</div>"
      ],
      "text/plain": [
       "       label                                             Review\n",
       "0          1  This book is such a life saver.  It has been s...\n",
       "1          1  I bought this a few times for my older son and...\n",
       "2          1  This is great for basics, but I wish the space...\n",
       "3          1  This book is perfect!  I'm a first time new mo...\n",
       "4          1  During your postpartum stay at the hospital th...\n",
       "...      ...                                                ...\n",
       "18501     -1  I really liked this monitor at first, but the ...\n",
       "18502     -1  Apparently you get what you pay for.  I've use...\n",
       "18503     -1  The old saying holds true with this product --...\n",
       "18504     -1  We did a great deal of research before purchas...\n",
       "18505     -1  I ordered these after having great success wit...\n",
       "\n",
       "[18506 rows x 2 columns]"
      ]
     },
     "execution_count": 204,
     "metadata": {},
     "output_type": "execute_result"
    }
   ],
   "source": [
    "train_data"
   ]
  },
  {
   "cell_type": "code",
   "execution_count": 205,
   "id": "fcf395ef",
   "metadata": {},
   "outputs": [
    {
     "data": {
      "text/plain": [
       "0        This book is such a life saver.  It has been s...\n",
       "1        I bought this a few times for my older son and...\n",
       "2        This is great for basics, but I wish the space...\n",
       "3        This book is perfect!  I'm a first time new mo...\n",
       "4        During your postpartum stay at the hospital th...\n",
       "                               ...                        \n",
       "18501    I really liked this monitor at first, but the ...\n",
       "18502    Apparently you get what you pay for.  I've use...\n",
       "18503    The old saying holds true with this product --...\n",
       "18504    We did a great deal of research before purchas...\n",
       "18505    I ordered these after having great success wit...\n",
       "Name: Review, Length: 18506, dtype: object"
      ]
     },
     "execution_count": 205,
     "metadata": {},
     "output_type": "execute_result"
    }
   ],
   "source": [
    "train_data.Review"
   ]
  },
  {
   "cell_type": "code",
   "execution_count": 206,
   "id": "4f57f116",
   "metadata": {},
   "outputs": [],
   "source": [
    "stop_words = stopwords.words('english')"
   ]
  },
  {
   "cell_type": "code",
   "execution_count": 207,
   "id": "4621bd23",
   "metadata": {},
   "outputs": [],
   "source": [
    "def contractions(words):\n",
    "    words_without_punc = []\n",
    "    for word in words:\n",
    "        if word.isalnum():\n",
    "            words_without_punc.append(word.lower())\n",
    "        elif \"n't\" in word:\n",
    "            words_without_punc.append(\"not\")\n",
    "        elif \"'re\" in word:\n",
    "            words_without_punc.append(\"are\")\n",
    "        elif \"'ll\" in word:\n",
    "            words_without_punc.append(\"will\")\n",
    "        elif \"'ve\" in word:\n",
    "            words_without_punc.append(\"have\")\n",
    "        elif \"'m\" in word:\n",
    "            words_without_punc.append(\"am\")\n",
    "        elif \"'s\" in word:\n",
    "            words_without_punc.append(\"is\")\n",
    "\n",
    "    return words_without_punc"
   ]
  },
  {
   "cell_type": "code",
   "execution_count": 219,
   "id": "c717bd49",
   "metadata": {},
   "outputs": [],
   "source": [
    "def review_to_words(series):\n",
    "    reviews = []\n",
    "    for review in series:\n",
    "        #Word Tokenization\n",
    "        review = word_tokenize(str(review))\n",
    "        #Perform the Contractions on the reviews\n",
    "        review = contractions(review)\n",
    "        #Lower case conversion\n",
    "        review = [word.lower() for word in review]\n",
    "        #Punctuation removal\n",
    "        review = [x for x in review if not x in punctuation]\n",
    "        #Number removal\n",
    "        review = [x for x in review if not x.isdigit()]\n",
    "        #Stopword removal\n",
    "        review = [x for x in review if x not in stop_words]\n",
    "        #Lemmatization\n",
    "        review = \" \".join([Word(x).lemmatize() for x in review])\n",
    "        reviews.append(review)\n",
    "    return reviews"
   ]
  },
  {
   "cell_type": "code",
   "execution_count": 212,
   "id": "6dc77810",
   "metadata": {},
   "outputs": [],
   "source": [
    "X = train_data.Review\n",
    "y = train_data.label"
   ]
  },
  {
   "cell_type": "code",
   "execution_count": 220,
   "id": "335eb000",
   "metadata": {},
   "outputs": [],
   "source": [
    "X_train, X_valid, y_train, y_valid = train_test_split(X, y, test_size=0.10, random_state=0)\n",
    "X_train = review_to_words(X_train)"
   ]
  },
  {
   "cell_type": "code",
   "execution_count": null,
   "id": "7d4474ce",
   "metadata": {},
   "outputs": [],
   "source": [
    "X_train"
   ]
  },
  {
   "cell_type": "code",
   "execution_count": 222,
   "id": "4daf2af9",
   "metadata": {},
   "outputs": [],
   "source": [
    "X_valid = review_to_words(X_valid)"
   ]
  },
  {
   "cell_type": "code",
   "execution_count": null,
   "id": "5c6d851b",
   "metadata": {},
   "outputs": [],
   "source": [
    "from sklearn.model_selection import GridSearchCV\n",
    "\n",
    "# Define the pipeline\n",
    "pipeline = Pipeline([\n",
    "    ('tfidf', TfidfVectorizer()),\n",
    "    ('clf', LogisticRegression(random_state=0))\n",
    "])\n",
    "\n",
    "# Define the hyperparameters to search over\n",
    "param_grid = {\n",
    "    'tfidf__max_features': [1000, 5000, 10000],\n",
    "    'tfidf__ngram_range': [(1, 1), (1, 2)],\n",
    "    'clf__C': [1, 10, 100],\n",
    "    'clf__penalty': ['l1', 'l2'],\n",
    "    'clf__max_iter': [10000]\n",
    "}\n",
    "\n",
    "# Create a GridSearchCV object\n",
    "grid_search = GridSearchCV(pipeline, param_grid, cv=10, verbose=5, n_jobs=-1)\n",
    "\n",
    "# Fit the GridSearchCV object to the data\n",
    "grid_search.fit(X_train, y_train)\n",
    "\n",
    "# Get the best hyperparameters\n",
    "best_params = grid_search.best_params_\n",
    "\n",
    "# Get the best estimator\n",
    "best_estimator = grid_search.best_estimator_\n",
    "\n",
    "print(\"Best hyperparameters: \", best_params)"
   ]
  },
  {
   "cell_type": "code",
   "execution_count": 228,
   "id": "6dce5e68",
   "metadata": {},
   "outputs": [
    {
     "data": {
      "text/plain": [
       "0.8774543691350415"
      ]
     },
     "execution_count": 228,
     "metadata": {},
     "output_type": "execute_result"
    }
   ],
   "source": [
    "grid_search.best_score_"
   ]
  },
  {
   "cell_type": "code",
   "execution_count": 227,
   "id": "5773902d",
   "metadata": {},
   "outputs": [
    {
     "data": {
      "text/plain": [
       "0.8849270664505673"
      ]
     },
     "execution_count": 227,
     "metadata": {},
     "output_type": "execute_result"
    }
   ],
   "source": [
    "best_estimator.score(X_valid, y_valid)"
   ]
  },
  {
   "cell_type": "code",
   "execution_count": 239,
   "id": "279699ba",
   "metadata": {},
   "outputs": [],
   "source": [
    "test_file = open(\"1675198994_6787539_1567602457_126649_test.dat\")\n",
    "test_data = test_file.readlines()\n",
    "test_file.close()"
   ]
  },
  {
   "cell_type": "code",
   "execution_count": null,
   "id": "de654496",
   "metadata": {},
   "outputs": [],
   "source": [
    "clean_test_data = review_to_words(test_data)\n",
    "clean_test_data"
   ]
  },
  {
   "cell_type": "code",
   "execution_count": 241,
   "id": "678e2aa6",
   "metadata": {},
   "outputs": [],
   "source": [
    "preds_test = best_estimator.predict(clean_test_data)"
   ]
  },
  {
   "cell_type": "code",
   "execution_count": 242,
   "id": "fd871a5a",
   "metadata": {},
   "outputs": [
    {
     "data": {
      "text/plain": [
       "array([ 1,  1,  1, ..., -1, -1, -1])"
      ]
     },
     "execution_count": 242,
     "metadata": {},
     "output_type": "execute_result"
    }
   ],
   "source": [
    "preds_test"
   ]
  },
  {
   "cell_type": "code",
   "execution_count": 441,
   "id": "f6c023c1",
   "metadata": {
    "scrolled": true
   },
   "outputs": [],
   "source": [
    "# Save test predictions to file\n",
    "output = pd.DataFrame(preds_test)\n",
    "output.to_csv('predictions.dat', index=False, header=False, escapechar=None)"
   ]
  }
 ],
 "metadata": {
  "kernelspec": {
   "display_name": "Python 3 (ipykernel)",
   "language": "python",
   "name": "python3"
  },
  "language_info": {
   "codemirror_mode": {
    "name": "ipython",
    "version": 3
   },
   "file_extension": ".py",
   "mimetype": "text/x-python",
   "name": "python",
   "nbconvert_exporter": "python",
   "pygments_lexer": "ipython3",
   "version": "3.9.13"
  }
 },
 "nbformat": 4,
 "nbformat_minor": 5
}
